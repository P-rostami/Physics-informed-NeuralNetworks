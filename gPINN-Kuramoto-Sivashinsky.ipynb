{
  "nbformat": 4,
  "nbformat_minor": 0,
  "metadata": {
    "colab": {
      "provenance": []
    },
    "kernelspec": {
      "name": "python3",
      "display_name": "Python 3"
    },
    "language_info": {
      "name": "python"
    }
  },
  "cells": [
    {
      "cell_type": "markdown",
      "source": [
        "$$\n",
        "\\begin{cases}\n",
        "\\frac{\\partial u}{\\partial t} + u\\frac{\\partial u}{\\partial x}\n",
        "+ \\frac{\\partial^2 u}{\\partial x^2}\n",
        "+ \\frac{\\partial^3 u}{\\partial x^3}\n",
        "+ \\frac{\\partial^4 u}{\\partial x^4}\n",
        "= 0, & -30 \\leq x \\leq 30, \\;\\; 0 < t \\leq T \\\\[3ex]\n",
        "u(x, 0) = \\exp(-x^2), & -30 < x < 30 \\\\[3ex]\n",
        "u(-30, t) = u(30, t) = u_x(-30, t) = u_x(30, t) = 0, & 0 < t < T\n",
        "\\end{cases}\n",
        "$$\n"
      ],
      "metadata": {
        "id": "64_t8PNyWC19"
      }
    },
    {
      "cell_type": "code",
      "source": [
        "import tensorflow as tf\n",
        "import numpy as np\n",
        "import matplotlib.pyplot as plt"
      ],
      "metadata": {
        "id": "FzA208k2rUSn"
      },
      "execution_count": null,
      "outputs": []
    },
    {
      "cell_type": "code",
      "source": [
        "tf.random.set_seed(0)\n",
        "np.random.seed(0)"
      ],
      "metadata": {
        "id": "VZxAXsiIrYWZ"
      },
      "execution_count": null,
      "outputs": []
    },
    {
      "cell_type": "code",
      "source": [
        "X_MIN, X_MAX = -30, 30\n",
        "T_MIN, T_MAX = 0, 1\n",
        "\n",
        "def u_init(x):\n",
        "    return np.exp(-x**2)"
      ],
      "metadata": {
        "id": "akVv-nxercFx"
      },
      "execution_count": null,
      "outputs": []
    },
    {
      "cell_type": "code",
      "source": [
        "class gPINN(tf.keras.Model):\n",
        "    def __init__(self):\n",
        "        super().__init__()\n",
        "        self.model = tf.keras.Sequential([\n",
        "            tf.keras.layers.Input(shape=(2,)),\n",
        "            tf.keras.layers.Dense(100, activation='tanh'),\n",
        "            tf.keras.layers.Dense(100, activation='tanh'),\n",
        "            tf.keras.layers.Dense(100, activation='tanh'),\n",
        "            tf.keras.layers.Dense(1)\n",
        "        ])\n",
        "\n",
        "    def call(self, XT):\n",
        "        return self.model(XT)"
      ],
      "metadata": {
        "id": "NR24pgqdrfx_"
      },
      "execution_count": null,
      "outputs": []
    },
    {
      "cell_type": "code",
      "source": [
        "def compute_loss(model, X_c, T_c, X_b, T_b, X_i, T_i, u_i):\n",
        "    XT_c = tf.concat([X_c, T_c], axis=1)\n",
        "    XT_b = tf.concat([X_b, T_b], axis=1)\n",
        "    XT_i = tf.concat([X_i, T_i], axis=1)\n",
        "\n",
        "    with tf.GradientTape(persistent=True) as tape4:\n",
        "        tape4.watch(XT_c)\n",
        "        with tf.GradientTape(persistent=True) as tape3:\n",
        "            tape3.watch(XT_c)\n",
        "            with tf.GradientTape(persistent=True) as tape2:\n",
        "                tape2.watch(XT_c)\n",
        "                with tf.GradientTape(persistent=True) as tape1:\n",
        "                    tape1.watch(XT_c)\n",
        "                    with tf.GradientTape() as tape0:\n",
        "                        tape0.watch(XT_c)\n",
        "                        u = model(XT_c)\n",
        "                    u_x_t = tape0.gradient(u, XT_c)\n",
        "                u_xx_tt = tape1.gradient(u_x_t, XT_c)\n",
        "            u_xxx_ttt = tape2.gradient(u_xx_tt, XT_c)\n",
        "        u_xxxx_tttt = tape3.gradient(u_xxx_ttt, XT_c)\n",
        "\n",
        "    u_t = u_x_t[:, 1:2]\n",
        "    u_x = u_x_t[:, 0:1]\n",
        "    u_xx = u_xx_tt[:, 0:1]\n",
        "    u_xxx = u_xxx_ttt[:, 0:1]\n",
        "    u_xxxx = u_xxxx_tttt[:, 0:1]\n",
        "\n",
        "    r = u_t + u * u_x + u_xx + u_xxx + u_xxxx\n",
        "\n",
        "    with tf.GradientTape() as tape_r:\n",
        "        tape_r.watch(XT_c)\n",
        "        r_ = r\n",
        "    r_grad = tape_r.gradient(r_, XT_c)\n",
        "    if r_grad is None:\n",
        "        r_grad = tf.zeros_like(XT_c)\n",
        "\n",
        "    loss_pde = tf.reduce_mean(tf.square(r))\n",
        "    loss_grad = tf.reduce_mean(tf.square(r_grad))\n",
        "\n",
        "    u_i_pred = model(XT_i)\n",
        "    loss_ic = tf.reduce_mean(tf.square(u_i_pred - u_i))\n",
        "\n",
        "    with tf.GradientTape() as tape_bc:\n",
        "        tape_bc.watch(XT_b)\n",
        "        u_b_pred = model(XT_b)\n",
        "    u_bx = tape_bc.gradient(u_b_pred, XT_b)\n",
        "    if u_bx is None:\n",
        "        u_bx = tf.zeros_like(u_b_pred)\n",
        "\n",
        "    loss_bc_u = tf.reduce_mean(tf.square(u_b_pred))\n",
        "    loss_bc_ux = tf.reduce_mean(tf.square(u_bx[:, 0:1]))\n",
        "\n",
        "    total_loss = loss_pde + loss_grad + loss_ic + loss_bc_u + loss_bc_ux\n",
        "    return total_loss, loss_pde, loss_grad, loss_ic, loss_bc_u, loss_bc_ux"
      ],
      "metadata": {
        "id": "Kwq7pGkBrwGy"
      },
      "execution_count": null,
      "outputs": []
    },
    {
      "cell_type": "code",
      "source": [
        "@tf.function\n",
        "def train_step():\n",
        "    with tf.GradientTape() as tape:\n",
        "        loss, l_pde, l_grad, l_ic, l_bc_u, l_bc_ux = compute_loss(\n",
        "            model, X_c, T_c, X_b, T_b, X_i, T_i, u_i\n",
        "        )\n",
        "    grads = tape.gradient(loss, model.trainable_variables)\n",
        "    optimizer.apply_gradients(zip(grads, model.trainable_variables))\n",
        "    return loss, l_pde, l_grad, l_ic, l_bc_u, l_bc_ux"
      ],
      "metadata": {
        "id": "77SNtyKXr5BS"
      },
      "execution_count": null,
      "outputs": []
    },
    {
      "cell_type": "code",
      "source": [
        "N_c = 10000\n",
        "x_c = np.random.uniform(X_MIN, X_MAX, (N_c, 1))\n",
        "t_c = np.random.uniform(T_MIN, T_MAX, (N_c, 1))\n",
        "X_c = tf.constant(x_c, dtype=tf.float32)\n",
        "T_c = tf.constant(t_c, dtype=tf.float32)\n",
        "\n",
        "N_i = 500\n",
        "x_i = np.linspace(X_MIN, X_MAX, N_i).reshape(-1, 1)\n",
        "t_i = np.zeros_like(x_i)\n",
        "u_i_np = u_init(x_i)\n",
        "X_i = tf.constant(x_i, dtype=tf.float32)\n",
        "T_i = tf.constant(t_i, dtype=tf.float32)\n",
        "u_i = tf.constant(u_i_np, dtype=tf.float32)\n",
        "\n",
        "N_b = 200\n",
        "t_b = np.random.uniform(T_MIN, T_MAX, (N_b, 1))\n",
        "x_b_left = np.full_like(t_b, X_MIN)\n",
        "x_b_right = np.full_like(t_b, X_MAX)\n",
        "X_b = tf.constant(np.vstack([x_b_left, x_b_right]), dtype=tf.float32)\n",
        "T_b = tf.constant(np.vstack([t_b, t_b]), dtype=tf.float32)\n",
        "\n",
        "model = gPINN()\n",
        "optimizer = tf.keras.optimizers.Adam(learning_rate=0.001)"
      ],
      "metadata": {
        "id": "IH9EwmjTr8Rd"
      },
      "execution_count": null,
      "outputs": []
    },
    {
      "cell_type": "code",
      "source": [
        "# Training loop\n",
        "epochs = 1000\n",
        "for epoch in range(epochs):\n",
        "    loss, l_pde, l_grad, l_ic, l_bc_u, l_bc_ux = train_step()\n",
        "    if epoch % 100 == 0:\n",
        "        print(f\"Epoch {epoch:5d} | Total: {loss:.4e} | PDE: {l_pde:.2e} | GradRes: {l_grad:.2e} | IC: {l_ic:.2e} | BC_u: {l_bc_u:.2e} | BC_ux: {l_bc_ux:.2e}\")"
      ],
      "metadata": {
        "colab": {
          "base_uri": "https://localhost:8080/"
        },
        "id": "j4TnlS1hr-1t",
        "outputId": "7a6e0e0f-ff91-4769-c661-4f9523149e18"
      },
      "execution_count": null,
      "outputs": [
        {
          "output_type": "stream",
          "name": "stdout",
          "text": [
            "Epoch     0 | Total: 8.6169e-02 | PDE: 6.20e-03 | GradRes: 0.00e+00 | IC: 3.71e-02 | BC_u: 4.28e-02 | BC_ux: 1.23e-05\n",
            "Epoch   100 | Total: 8.2647e-03 | PDE: 1.81e-04 | GradRes: 0.00e+00 | IC: 8.08e-03 | BC_u: 1.52e-06 | BC_ux: 3.43e-07\n",
            "Epoch   200 | Total: 5.7868e-03 | PDE: 2.39e-04 | GradRes: 0.00e+00 | IC: 5.52e-03 | BC_u: 2.90e-05 | BC_ux: 5.14e-07\n",
            "Epoch   300 | Total: 3.9359e-03 | PDE: 3.14e-04 | GradRes: 0.00e+00 | IC: 3.61e-03 | BC_u: 1.56e-05 | BC_ux: 7.91e-08\n",
            "Epoch   400 | Total: 2.5010e-03 | PDE: 3.42e-04 | GradRes: 0.00e+00 | IC: 2.16e-03 | BC_u: 2.16e-06 | BC_ux: 4.73e-08\n",
            "Epoch   500 | Total: 1.5551e-03 | PDE: 3.20e-04 | GradRes: 0.00e+00 | IC: 1.23e-03 | BC_u: 5.56e-07 | BC_ux: 2.19e-07\n",
            "Epoch   600 | Total: 9.7743e-04 | PDE: 2.63e-04 | GradRes: 0.00e+00 | IC: 7.12e-04 | BC_u: 2.25e-06 | BC_ux: 2.58e-07\n",
            "Epoch   700 | Total: 6.5170e-04 | PDE: 2.30e-04 | GradRes: 0.00e+00 | IC: 4.19e-04 | BC_u: 2.53e-06 | BC_ux: 1.72e-07\n",
            "Epoch   800 | Total: 4.4551e-04 | PDE: 1.86e-04 | GradRes: 0.00e+00 | IC: 2.58e-04 | BC_u: 1.57e-06 | BC_ux: 8.85e-08\n",
            "Epoch   900 | Total: 3.2915e-04 | PDE: 1.61e-04 | GradRes: 0.00e+00 | IC: 1.67e-04 | BC_u: 7.64e-07 | BC_ux: 4.98e-08\n"
          ]
        }
      ]
    },
    {
      "cell_type": "code",
      "execution_count": null,
      "metadata": {
        "colab": {
          "base_uri": "https://localhost:8080/",
          "height": 507
        },
        "id": "KIOkWyp-f4AK",
        "outputId": "da59908a-f502-469e-dd80-22fd2568fef1"
      },
      "outputs": [
        {
          "output_type": "display_data",
          "data": {
            "text/plain": [
              "<Figure size 1000x500 with 1 Axes>"
            ],
            "image/png": "[encoded data removed]"
          },
          "metadata": {}
        }
      ],
      "source": [
        "# Evaluation and plot\n",
        "x_test = np.linspace(X_MIN, X_MAX, 300).reshape(-1, 1)\n",
        "t_zero = np.zeros_like(x_test)\n",
        "t_final = np.full_like(x_test, T_MAX)\n",
        "XT_test0 = tf.constant(np.hstack([x_test, t_zero]), dtype=tf.float32)\n",
        "XT_test1 = tf.constant(np.hstack([x_test, t_final]), dtype=tf.float32)\n",
        "u_pred0 = model(XT_test0)\n",
        "u_pred1 = model(XT_test1)\n",
        "\n",
        "plt.figure(figsize=(10, 5))\n",
        "plt.plot(x_test, u_init(x_test), 'k--', label='exact')\n",
        "plt.plot(x_test, u_pred0, 'r', label='g-PINN')\n",
        "plt.title(\"g-PINN\")\n",
        "plt.xlabel(\"x\")\n",
        "plt.ylabel(\"u(x, t)\")\n",
        "plt.legend()\n",
        "plt.grid(True)\n",
        "plt.tight_layout()\n",
        "plt.show()\n"
      ]
    }
  ]
}