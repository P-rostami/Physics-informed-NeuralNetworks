{
  "nbformat": 4,
  "nbformat_minor": 0,
  "metadata": {
    "colab": {
      "provenance": []
    },
    "kernelspec": {
      "name": "python3",
      "display_name": "Python 3"
    },
    "language_info": {
      "name": "python"
    }
  },
  "cells": [
    {
      "cell_type": "markdown",
      "source": [
        "\\begin{equation*}\n",
        "\\left\\{\n",
        "\\begin{array}{ll}\n",
        "    u_{xx} + (a + x)u_x + b x u(x) = f(x), & 0 \\leq x \\leq 1, \\\\[10pt]\n",
        "    u(0) = \\alpha, \\\\[10pt]\n",
        "    u(1) = \\beta.\n",
        "\\end{array}\n",
        "\\right.\n",
        "\\end{equation*}\n",
        "Analytical Solution:\n",
        "\\begin{equation}\n",
        "u(x) = \\sin(\\pi x)\n",
        "\\end{equation}\n"
      ],
      "metadata": {
        "id": "A9K53WR-Gr3z"
      }
    },
    {
      "cell_type": "code",
      "source": [
        "import numpy as np\n",
        "from sklearn.linear_model import Lasso\n",
        "import tensorflow as tf\n",
        "import numpy as np\n",
        "import matplotlib.pyplot as plt"
      ],
      "metadata": {
        "id": "YYSe6Js2e_XI"
      },
      "execution_count": null,
      "outputs": []
    },
    {
      "cell_type": "code",
      "source": [
        "nx = 100\n",
        "x = np.linspace(0, 1, nx)\n",
        "u = np.sin(np.pi * x)\n",
        "\n",
        "\n",
        "dx = x[1] - x[0]\n",
        "u_x = np.zeros_like(u)\n",
        "u_xx = np.zeros_like(u)\n",
        "\n",
        "u_x[1:-1] = (u[2:] - u[:-2]) / (2 * dx)\n",
        "u_xx[1:-1] = (u[2:] - 2 * u[1:-1] + u[:-2]) / (dx**2)"
      ],
      "metadata": {
        "id": "2MY1opWsfBHB"
      },
      "execution_count": null,
      "outputs": []
    },
    {
      "cell_type": "code",
      "execution_count": null,
      "metadata": {
        "colab": {
          "base_uri": "https://localhost:8080/"
        },
        "id": "y_rYnztHnmH5",
        "outputId": "fc75f788-a48b-4da5-cbcf-aca8101aa2e5"
      },
      "outputs": [
        {
          "output_type": "stream",
          "name": "stdout",
          "text": [
            "Estimated a: 0.23866\n",
            "Estimated b: 14.28850\n",
            "\n",
            "Identified ODE:\n",
            "u_xx + (+0.23866 + x)u_x + (+14.28850) x u = f(x)\n"
          ]
        }
      ],
      "source": [
        "Theta = np.stack([\n",
        "    u_x,\n",
        "    x*u_x,\n",
        "    x*u\n",
        "], axis=1)\n",
        "\n",
        "f = u_xx + x*u_x\n",
        "\n",
        "\n",
        "Y = -f[1:-1]\n",
        "X_reg = np.stack([u_x[1:-1], x[1:-1]*u[1:-1]], axis=1)\n",
        "\n",
        "lasso = Lasso(alpha=1e-8)\n",
        "lasso.fit(X_reg, Y)\n",
        "a_est, b_est = lasso.coef_\n",
        "\n",
        "print(f\"Estimated a: {a_est:.5f}\")\n",
        "print(f\"Estimated b: {b_est:.5f}\")\n",
        "\n",
        "print(\"\\nIdentified ODE:\")\n",
        "print(f\"u_xx + ({a_est:+.5f} + x)u_x + ({b_est:+.5f}) x u = f(x)\")\n"
      ]
    },
    {
      "cell_type": "code",
      "source": [
        "DTYPE = 'float32'\n",
        "tf.keras.backend.set_floatx(DTYPE)\n",
        "\n",
        "a = 0.23866\n",
        "b = 14.28850\n",
        "π = np.pi\n",
        "\n",
        "x_left, x_right = 0.0, 1.0\n",
        "lb = tf.constant([x_left], DTYPE)\n",
        "ub = tf.constant([x_right], DTYPE)\n",
        "\n",
        "def u_exact(x):\n",
        "    return tf.sin(np.pi * x)\n",
        "\n",
        "def f_fun(x):\n",
        "    return (-π**2 * tf.sin(π*x)\n",
        "            + (a + x) * π * tf.cos(π*x)\n",
        "            + b * x * tf.sin(π*x))\n",
        "\n",
        "N_b = 100\n",
        "N_r = 1000\n",
        "\n",
        "X_b = tf.constant([[x_left],[x_right]], DTYPE)\n",
        "u_b = tf.constant([[0.],[0.]], DTYPE)   # α = β = 0\n",
        "\n",
        "X_r = tf.random.uniform((N_r,1), x_left, x_right, DTYPE)\n",
        "f_r = f_fun(X_r)\n",
        "\n",
        "class PINN(tf.keras.Model):\n",
        "    def __init__(self, layers, lb, ub):\n",
        "        super().__init__()\n",
        "        self.lb, self.ub = lb, ub\n",
        "        self.hidden = [tf.keras.layers.Dense(w, activation='tanh') for w in layers[:-1]]\n",
        "        self.out = tf.keras.layers.Dense(layers[-1])\n",
        "\n",
        "    def call(self, X):\n",
        "        # scale to [-1,1]\n",
        "        Z = 2.*(X - self.lb)/(self.ub - self.lb) - 1.\n",
        "        for lyr in self.hidden:\n",
        "            Z = lyr(Z)\n",
        "        return self.out(Z)\n",
        "\n",
        "def pde_residual(model, X):\n",
        "    x = X[:, :1]\n",
        "    with tf.GradientTape(persistent=True) as tape:\n",
        "        tape.watch(x)\n",
        "        u = model(x)\n",
        "        u_x = tape.gradient(u, x)\n",
        "        u_xx = tape.gradient(u_x, x)\n",
        "    del tape\n",
        "    f = f_fun(x)\n",
        "    return u_xx + (a + x)*u_x + b*x*u - f\n",
        "\n",
        "def loss_fn(model):\n",
        "    r = pde_residual(model, X_r)\n",
        "    loss_r = tf.reduce_mean(tf.square(r))\n",
        "    u_b_pred = model(X_b)\n",
        "    loss_b = tf.reduce_mean(tf.square(u_b_pred - u_b))\n",
        "    return loss_r + loss_b\n",
        "\n",
        "@tf.function\n",
        "def train_step(model, opt):\n",
        "    with tf.GradientTape() as tape:\n",
        "        loss = loss_fn(model)\n",
        "    grads = tape.gradient(loss, model.trainable_variables)\n",
        "    opt.apply_gradients(zip(grads, model.trainable_variables))\n",
        "    return loss\n",
        "\n",
        "layers = [1, 64, 64, 64, 1]\n",
        "model = PINN(layers, lb, ub)\n",
        "\n",
        "opt = tf.keras.optimizers.Adam(learning_rate=8e-4)\n",
        "epochs = 10000\n",
        "for ep in range(epochs+1):\n",
        "    l = train_step(model, opt)\n",
        "    if ep % 500 == 0:\n",
        "        print(f\"epoch {ep:5d}   loss = {l.numpy():.4e}\")\n",
        "\n",
        "x_plot = np.linspace(x_left, x_right, 300, DTYPE)[:,None]\n",
        "u_pred = model(x_plot).numpy()\n",
        "u_ex = u_exact(x_plot).numpy()\n",
        "\n",
        "plt.figure(figsize=(6,3))\n",
        "plt.plot(x_plot, u_pred, label='PINN')\n",
        "plt.plot(x_plot, u_ex, '--', label='exact')\n",
        "plt.xlabel('$x$'); plt.ylabel('$u(x)$')\n",
        "plt.legend(); plt.tight_layout(); plt.show()\n"
      ],
      "metadata": {
        "colab": {
          "base_uri": "https://localhost:8080/",
          "height": 671
        },
        "id": "McVUU4EBKDOV",
        "outputId": "b286dceb-d9de-44f1-dacd-99657b1c0453"
      },
      "execution_count": null,
      "outputs": [
        {
          "output_type": "stream",
          "name": "stdout",
          "text": [
            "epoch     0   loss = 6.5020e+00\n",
            "epoch   500   loss = 1.3026e+00\n",
            "epoch  1000   loss = 8.6360e-02\n",
            "epoch  1500   loss = 2.8460e-02\n",
            "epoch  2000   loss = 2.5537e-02\n",
            "epoch  2500   loss = 2.4219e-02\n",
            "epoch  3000   loss = 2.2926e-02\n",
            "epoch  3500   loss = 2.1178e-02\n",
            "epoch  4000   loss = 1.4821e-02\n",
            "epoch  4500   loss = 1.0342e-02\n",
            "epoch  5000   loss = 4.7009e-03\n",
            "epoch  5500   loss = 2.1682e-03\n",
            "epoch  6000   loss = 7.1779e-04\n",
            "epoch  6500   loss = 2.3658e-04\n",
            "epoch  7000   loss = 1.6728e-04\n",
            "epoch  7500   loss = 1.2802e-04\n",
            "epoch  8000   loss = 1.1748e-04\n",
            "epoch  8500   loss = 8.7921e-03\n",
            "epoch  9000   loss = 8.5613e-05\n",
            "epoch  9500   loss = 1.0645e-04\n",
            "epoch 10000   loss = 6.7400e-05\n"
          ]
        },
        {
          "output_type": "display_data",
          "data": {
            "text/plain": [
              "<Figure size 600x300 with 1 Axes>"
            ],
            "image/png": "[encoded data removed]"
          },
          "metadata": {}
        }
      ]
    }
  ]
}